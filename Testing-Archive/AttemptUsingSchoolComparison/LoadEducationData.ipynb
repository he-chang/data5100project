{
 "cells": [
  {
   "cell_type": "code",
   "execution_count": 1,
   "id": "67acb70c",
   "metadata": {},
   "outputs": [],
   "source": [
    "import pandas as pd\n",
    "import numpy as np\n",
    "\n",
    "years = ['2013', '2014', '2015', '2016', '2017', '2018', '2019', '2020']\n",
    "files = ['gr{}_rv.csv', 'ef{}a_rv.csv', 'hd{}.csv', 's{}_oc_rv.csv']\n",
    "fiscalYearFiles = ['f{}_f1a_rv.csv', 'f{}_f2_rv.csv', 'sfa{}_rv.csv']\n",
    "#files = ['adm{}_rv.csv', 'c{}_a_rv.csv', 'ef{}a_rv.csv', 'gr{}_rv.csv', 'hd{}.csv', 's{}_oc_rv.csv']"
   ]
  },
  {
   "cell_type": "code",
   "execution_count": 2,
   "id": "8f426e4f",
   "metadata": {},
   "outputs": [],
   "source": [
    "def GetFiscalYear(year):\n",
    "    endYear = year[-2:]\n",
    "    numEndYear = int(endYear)\n",
    "    startYear = numEndYear-1\n",
    "    return str(startYear) + endYear"
   ]
  },
  {
   "cell_type": "code",
   "execution_count": 3,
   "id": "a3a7c8fb",
   "metadata": {},
   "outputs": [],
   "source": [
    "# Get all the dataframes into a dictionary\n",
    "dataframes = {'university_data': [], 'enrollment_data': [], 'graduation_data': [], 'staff_data': [], 'finance1_data': [], 'finance2_data': [], 'finaid_data': []}\n",
    "\n",
    "# Loop through the 8 years of data and create a dataframe for each year and append it to a list\n",
    "for y in years:\n",
    "    for f in files:\n",
    "        data = pd.read_csv(\"C:\\\\project\\\\{}\\\\{}\".format(y, f.format(y)), encoding = 'ISO-8859-1')\n",
    "        data['year'] = int(y)\n",
    "        \n",
    "        if f[0] == 'h':\n",
    "            dataframes['university_data'].append(data)\n",
    "        elif f[0] == 'e':\n",
    "            dataframes['enrollment_data'].append(data)\n",
    "        elif f[0] == 'g':\n",
    "            dataframes['graduation_data'].append(data)\n",
    "        elif f[0] == 's':\n",
    "            dataframes['staff_data'].append(data)\n",
    "            \n",
    "    fiscalYear = GetFiscalYear(y)\n",
    "    for fyf in fiscalYearFiles:\n",
    "        fdata = pd.read_csv(\"C:\\\\project\\\\{}\\\\{}\".format(y, fyf.format(fiscalYear)), encoding = 'ISO-8859-1')\n",
    "        fdata['year'] = int(y)\n",
    "        \n",
    "        if 'f1a' in fyf:\n",
    "            dataframes['finance1_data'].append(fdata)\n",
    "        elif 'f2' in fyf:\n",
    "            dataframes['finance2_data'].append(fdata)\n",
    "        elif 'sfa' in fyf:\n",
    "            dataframes['finaid_data'].append(fdata)"
   ]
  },
  {
   "cell_type": "code",
   "execution_count": 4,
   "id": "bcb843b7",
   "metadata": {},
   "outputs": [],
   "source": [
    "# Merge the data frames into one dataframe per category\n",
    "df_unv = dataframes['university_data'][0]\n",
    "df_enr = dataframes['enrollment_data'][0]\n",
    "df_grad = dataframes['graduation_data'][0]\n",
    "df_staff = dataframes['staff_data'][0]\n",
    "df_finance1 = dataframes['finance1_data'][0]\n",
    "df_finance2 = dataframes['finance2_data'][0]\n",
    "df_finaid = dataframes['finaid_data'][0]\n",
    "\n",
    "# Loop through the lists of each type of data frame and concat them together\n",
    "for key in dataframes.keys():\n",
    "    df_list = dataframes[key]\n",
    "    count = 0\n",
    "\n",
    "    for l_item in df_list:\n",
    "\n",
    "        if count == 0:\n",
    "            count += 1\n",
    "            continue\n",
    "        else:\n",
    "            if key == 'university_data':\n",
    "                df_unv = pd.concat([df_unv, l_item])\n",
    "            elif key == 'enrollment_data':\n",
    "                df_enr = pd.concat([df_enr, l_item])\n",
    "            elif key == 'graduation_data':\n",
    "                df_grad = pd.concat([df_grad, l_item])\n",
    "            elif key == 'staff_data':\n",
    "                df_staff = pd.concat([df_staff, l_item])\n",
    "            elif key == 'finance1_data':\n",
    "                df_finance1 = pd.concat([df_finance1, l_item])\n",
    "            elif key == 'finance2_data':\n",
    "                df_finance2 = pd.concat([df_finance2, l_item])\n",
    "            elif key == 'finaid_data':\n",
    "                df_finaid = pd.concat([df_finaid, l_item])\n",
    "        \n",
    "        count += 1 "
   ]
  },
  {
   "cell_type": "code",
   "execution_count": 5,
   "id": "76b13422",
   "metadata": {},
   "outputs": [],
   "source": [
    "# rename variables to something that we can understand better\n",
    "df_unv = df_unv.rename(columns={'UNITID': 'institute_id',\n",
    "                       'INSTNM': 'institute_name',\n",
    "                       'STABBR': 'state',\n",
    "                       'ICLEVEL': 'university_level',\n",
    "                       'HLOFFER': 'highest_level_offered',\n",
    "                       'CITY':   'city',\n",
    "                       'ZIP':    'zip'\n",
    "                       })\n"
   ]
  },
  {
   "cell_type": "code",
   "execution_count": 6,
   "id": "3eb0eb9c",
   "metadata": {},
   "outputs": [],
   "source": [
    "# rename variables to something that we can understand better\n",
    "df_enr = df_enr.rename(columns={'UNITID': 'institute_id',\n",
    "                       'EFALEVEL': 'student_lvl',\n",
    "                       'LINE': 'student_lvl_og',\n",
    "                       'SECTION': 'attend_status',\n",
    "                       'LSTUDY': 'student_lvl_2',\n",
    "                       'EFTOTLT': 'e_total',\n",
    "                       'EFAIANT': 'e_AmerInd_AlaskNtv',\n",
    "                       'EFASIAT': 'e_Asian',\n",
    "                       'EFBKAAT': 'e_AfrAmer',\n",
    "                       'EFHISPT': 'e_Hispanic',\n",
    "                       'EFNHPIT': 'e_Hi_PacIsland',\n",
    "                       'EFWHITT': 'e_White',\n",
    "                       'EF2MORT': 'e_2orMore',\n",
    "                       'EFUNKNT': 'e_unknown',\n",
    "                       'EFNRALT': 'e_nonresAlien'\n",
    "                       })\n"
   ]
  },
  {
   "cell_type": "code",
   "execution_count": 7,
   "id": "9e5c59e6",
   "metadata": {},
   "outputs": [],
   "source": [
    "# rename variables to something that we can understand better\n",
    "df_finance1 = df_finance1.rename(columns={'UNITID': 'institute_id',\n",
    "                       'F1H02': 'public_endowment'\n",
    "                       })"
   ]
  },
  {
   "cell_type": "code",
   "execution_count": 8,
   "id": "557b6a07",
   "metadata": {},
   "outputs": [],
   "source": [
    "# rename variables to something that we can understand better\n",
    "df_finance2 = df_finance2.rename(columns={'UNITID': 'institute_id',\n",
    "                       'F2H02': 'private_endowment'\n",
    "                       })"
   ]
  },
  {
   "cell_type": "code",
   "execution_count": 9,
   "id": "26cfab53",
   "metadata": {},
   "outputs": [],
   "source": [
    "df_finaid = df_finaid.rename(columns={'UNITID': 'institute_id',\n",
    "                        'GIS4N2': 'number_in_all_levels',\n",
    "                        'GIS4N12': 'number_in_income_level1',\n",
    "                        'GIS4T12': 'total_scholarship_level1',\n",
    "                        'GIS4A12': 'average_amt_awarded_level1',\n",
    "                        'GIS4N22': 'number_in_income_level2',\n",
    "                        'GIS4T22': 'total_scholarship_level2',\n",
    "                        'GIS4A22': 'average_amt_awarded_level2',\n",
    "                        'GIS4N32': 'number_in_income_level3',\n",
    "                        'GIS4T32': 'total_scholarship_level3',\n",
    "                        'GIS4A32': 'average_amt_awarded_level3',\n",
    "                        'GIS4N42': 'number_in_income_level4',\n",
    "                        'GIS4T42': 'total_scholarship_level4',\n",
    "                        'GIS4A42': 'average_amt_awarded_level4',\n",
    "                        'GIS4N52': 'number_in_income_level5',\n",
    "                        'GIS4T52': 'total_scholarship_level5',\n",
    "                        'GIS4A52': 'average_amt_awarded_level5'\n",
    "})\n"
   ]
  },
  {
   "cell_type": "code",
   "execution_count": 10,
   "id": "d8d09b7d",
   "metadata": {},
   "outputs": [],
   "source": [
    "df_cohort = df_grad.copy()"
   ]
  },
  {
   "cell_type": "code",
   "execution_count": 11,
   "id": "abffb963",
   "metadata": {},
   "outputs": [
    {
     "data": {
      "text/html": [
       "<div>\n",
       "<style scoped>\n",
       "    .dataframe tbody tr th:only-of-type {\n",
       "        vertical-align: middle;\n",
       "    }\n",
       "\n",
       "    .dataframe tbody tr th {\n",
       "        vertical-align: top;\n",
       "    }\n",
       "\n",
       "    .dataframe thead th {\n",
       "        text-align: right;\n",
       "    }\n",
       "</style>\n",
       "<table border=\"1\" class=\"dataframe\">\n",
       "  <thead>\n",
       "    <tr style=\"text-align: right;\">\n",
       "      <th></th>\n",
       "      <th>institute_id</th>\n",
       "      <th>GRTYPE</th>\n",
       "      <th>CHRTSTAT</th>\n",
       "      <th>SECTION</th>\n",
       "      <th>COHORT</th>\n",
       "      <th>LINE</th>\n",
       "      <th>XGRTOTLT</th>\n",
       "      <th>gr_total</th>\n",
       "      <th>XGRTOTLM</th>\n",
       "      <th>GRTOTLM</th>\n",
       "      <th>...</th>\n",
       "      <th>XGRUNKNW</th>\n",
       "      <th>GRUNKNW</th>\n",
       "      <th>XGRNRALT</th>\n",
       "      <th>gr_nonresAlien</th>\n",
       "      <th>XGRNRALM</th>\n",
       "      <th>GRNRALM</th>\n",
       "      <th>XGRNRALW</th>\n",
       "      <th>GRNRALW</th>\n",
       "      <th>year</th>\n",
       "      <th>GRNRALW</th>\n",
       "    </tr>\n",
       "  </thead>\n",
       "  <tbody>\n",
       "    <tr>\n",
       "      <th>0</th>\n",
       "      <td>100654</td>\n",
       "      <td>2</td>\n",
       "      <td>12</td>\n",
       "      <td>1</td>\n",
       "      <td>1</td>\n",
       "      <td>999</td>\n",
       "      <td>R</td>\n",
       "      <td>882</td>\n",
       "      <td>R</td>\n",
       "      <td>407.0</td>\n",
       "      <td>...</td>\n",
       "      <td>R</td>\n",
       "      <td>0.0</td>\n",
       "      <td>R</td>\n",
       "      <td>5.0</td>\n",
       "      <td>R</td>\n",
       "      <td>2.0</td>\n",
       "      <td>R</td>\n",
       "      <td>3.0</td>\n",
       "      <td>2013</td>\n",
       "      <td>NaN</td>\n",
       "    </tr>\n",
       "    <tr>\n",
       "      <th>1</th>\n",
       "      <td>100654</td>\n",
       "      <td>3</td>\n",
       "      <td>13</td>\n",
       "      <td>1</td>\n",
       "      <td>1</td>\n",
       "      <td>999</td>\n",
       "      <td>R</td>\n",
       "      <td>257</td>\n",
       "      <td>R</td>\n",
       "      <td>93.0</td>\n",
       "      <td>...</td>\n",
       "      <td>Z</td>\n",
       "      <td>0.0</td>\n",
       "      <td>R</td>\n",
       "      <td>2.0</td>\n",
       "      <td>Z</td>\n",
       "      <td>0.0</td>\n",
       "      <td>R</td>\n",
       "      <td>2.0</td>\n",
       "      <td>2013</td>\n",
       "      <td>NaN</td>\n",
       "    </tr>\n",
       "    <tr>\n",
       "      <th>2</th>\n",
       "      <td>100654</td>\n",
       "      <td>4</td>\n",
       "      <td>20</td>\n",
       "      <td>1</td>\n",
       "      <td>1</td>\n",
       "      <td>999</td>\n",
       "      <td>R</td>\n",
       "      <td>197</td>\n",
       "      <td>R</td>\n",
       "      <td>100.0</td>\n",
       "      <td>...</td>\n",
       "      <td>Z</td>\n",
       "      <td>0.0</td>\n",
       "      <td>R</td>\n",
       "      <td>1.0</td>\n",
       "      <td>R</td>\n",
       "      <td>0.0</td>\n",
       "      <td>R</td>\n",
       "      <td>1.0</td>\n",
       "      <td>2013</td>\n",
       "      <td>NaN</td>\n",
       "    </tr>\n",
       "    <tr>\n",
       "      <th>3</th>\n",
       "      <td>100654</td>\n",
       "      <td>6</td>\n",
       "      <td>10</td>\n",
       "      <td>2</td>\n",
       "      <td>2</td>\n",
       "      <td>10</td>\n",
       "      <td>R</td>\n",
       "      <td>882</td>\n",
       "      <td>R</td>\n",
       "      <td>407.0</td>\n",
       "      <td>...</td>\n",
       "      <td>R</td>\n",
       "      <td>0.0</td>\n",
       "      <td>R</td>\n",
       "      <td>5.0</td>\n",
       "      <td>R</td>\n",
       "      <td>2.0</td>\n",
       "      <td>R</td>\n",
       "      <td>3.0</td>\n",
       "      <td>2013</td>\n",
       "      <td>NaN</td>\n",
       "    </tr>\n",
       "    <tr>\n",
       "      <th>4</th>\n",
       "      <td>100654</td>\n",
       "      <td>8</td>\n",
       "      <td>12</td>\n",
       "      <td>2</td>\n",
       "      <td>2</td>\n",
       "      <td>50</td>\n",
       "      <td>R</td>\n",
       "      <td>882</td>\n",
       "      <td>R</td>\n",
       "      <td>407.0</td>\n",
       "      <td>...</td>\n",
       "      <td>R</td>\n",
       "      <td>0.0</td>\n",
       "      <td>R</td>\n",
       "      <td>5.0</td>\n",
       "      <td>R</td>\n",
       "      <td>2.0</td>\n",
       "      <td>R</td>\n",
       "      <td>3.0</td>\n",
       "      <td>2013</td>\n",
       "      <td>NaN</td>\n",
       "    </tr>\n",
       "  </tbody>\n",
       "</table>\n",
       "<p>5 rows × 68 columns</p>\n",
       "</div>"
      ],
      "text/plain": [
       "   institute_id  GRTYPE  CHRTSTAT  SECTION  COHORT LINE XGRTOTLT  gr_total  \\\n",
       "0        100654       2        12        1       1  999        R       882   \n",
       "1        100654       3        13        1       1  999        R       257   \n",
       "2        100654       4        20        1       1  999        R       197   \n",
       "3        100654       6        10        2       2  10         R       882   \n",
       "4        100654       8        12        2       2  50         R       882   \n",
       "\n",
       "  XGRTOTLM  GRTOTLM  ... XGRUNKNW  GRUNKNW XGRNRALT  gr_nonresAlien XGRNRALM  \\\n",
       "0        R    407.0  ...        R      0.0        R             5.0        R   \n",
       "1        R     93.0  ...        Z      0.0        R             2.0        Z   \n",
       "2        R    100.0  ...        Z      0.0        R             1.0        R   \n",
       "3        R    407.0  ...        R      0.0        R             5.0        R   \n",
       "4        R    407.0  ...        R      0.0        R             5.0        R   \n",
       "\n",
       "   GRNRALM XGRNRALW  GRNRALW  year  GRNRALW   \n",
       "0      2.0        R      3.0  2013       NaN  \n",
       "1      0.0        R      2.0  2013       NaN  \n",
       "2      0.0        R      1.0  2013       NaN  \n",
       "3      2.0        R      3.0  2013       NaN  \n",
       "4      2.0        R      3.0  2013       NaN  \n",
       "\n",
       "[5 rows x 68 columns]"
      ]
     },
     "execution_count": 11,
     "metadata": {},
     "output_type": "execute_result"
    }
   ],
   "source": [
    "# rename variables to something that we can understand better\n",
    "df_grad = df_grad.rename(columns={'UNITID': 'institute_id',\n",
    "                        'GRTOTLT': 'gr_total',\n",
    "                        'GRAIANT': 'gr_AmerInd_AlaskNtv',\n",
    "                        'GRASIAT': 'gr_Asian',\n",
    "                        'GRBKAAT': 'gr_AfrAmer',\n",
    "                        'GRHISPT': 'gr_Hispanic',\n",
    "                        'GRNHPIT': 'gr_Hi_PacIsland',\n",
    "                        'GRWHITT': 'gr_White',\n",
    "                        'GR2MORT': 'gr_2orMore',\n",
    "                        'GRUNKNT': 'gr_unknown',\n",
    "                        'GRNRALT': 'gr_nonresAlien'\n",
    "                       })\n",
    "df_grad.head()"
   ]
  },
  {
   "cell_type": "code",
   "execution_count": 12,
   "id": "2d8f3446",
   "metadata": {},
   "outputs": [
    {
     "data": {
      "text/html": [
       "<div>\n",
       "<style scoped>\n",
       "    .dataframe tbody tr th:only-of-type {\n",
       "        vertical-align: middle;\n",
       "    }\n",
       "\n",
       "    .dataframe tbody tr th {\n",
       "        vertical-align: top;\n",
       "    }\n",
       "\n",
       "    .dataframe thead th {\n",
       "        text-align: right;\n",
       "    }\n",
       "</style>\n",
       "<table border=\"1\" class=\"dataframe\">\n",
       "  <thead>\n",
       "    <tr style=\"text-align: right;\">\n",
       "      <th></th>\n",
       "      <th>institute_id</th>\n",
       "      <th>GRTYPE</th>\n",
       "      <th>CHRTSTAT</th>\n",
       "      <th>SECTION</th>\n",
       "      <th>COHORT</th>\n",
       "      <th>LINE</th>\n",
       "      <th>XGRTOTLT</th>\n",
       "      <th>co_total</th>\n",
       "      <th>XGRTOTLM</th>\n",
       "      <th>GRTOTLM</th>\n",
       "      <th>...</th>\n",
       "      <th>XGRUNKNW</th>\n",
       "      <th>GRUNKNW</th>\n",
       "      <th>XGRNRALT</th>\n",
       "      <th>co_nonresAlien</th>\n",
       "      <th>XGRNRALM</th>\n",
       "      <th>GRNRALM</th>\n",
       "      <th>XGRNRALW</th>\n",
       "      <th>GRNRALW</th>\n",
       "      <th>year</th>\n",
       "      <th>GRNRALW</th>\n",
       "    </tr>\n",
       "  </thead>\n",
       "  <tbody>\n",
       "    <tr>\n",
       "      <th>0</th>\n",
       "      <td>100654</td>\n",
       "      <td>2</td>\n",
       "      <td>12</td>\n",
       "      <td>1</td>\n",
       "      <td>1</td>\n",
       "      <td>999</td>\n",
       "      <td>R</td>\n",
       "      <td>882</td>\n",
       "      <td>R</td>\n",
       "      <td>407.0</td>\n",
       "      <td>...</td>\n",
       "      <td>R</td>\n",
       "      <td>0.0</td>\n",
       "      <td>R</td>\n",
       "      <td>5.0</td>\n",
       "      <td>R</td>\n",
       "      <td>2.0</td>\n",
       "      <td>R</td>\n",
       "      <td>3.0</td>\n",
       "      <td>2013</td>\n",
       "      <td>NaN</td>\n",
       "    </tr>\n",
       "    <tr>\n",
       "      <th>1</th>\n",
       "      <td>100654</td>\n",
       "      <td>3</td>\n",
       "      <td>13</td>\n",
       "      <td>1</td>\n",
       "      <td>1</td>\n",
       "      <td>999</td>\n",
       "      <td>R</td>\n",
       "      <td>257</td>\n",
       "      <td>R</td>\n",
       "      <td>93.0</td>\n",
       "      <td>...</td>\n",
       "      <td>Z</td>\n",
       "      <td>0.0</td>\n",
       "      <td>R</td>\n",
       "      <td>2.0</td>\n",
       "      <td>Z</td>\n",
       "      <td>0.0</td>\n",
       "      <td>R</td>\n",
       "      <td>2.0</td>\n",
       "      <td>2013</td>\n",
       "      <td>NaN</td>\n",
       "    </tr>\n",
       "    <tr>\n",
       "      <th>2</th>\n",
       "      <td>100654</td>\n",
       "      <td>4</td>\n",
       "      <td>20</td>\n",
       "      <td>1</td>\n",
       "      <td>1</td>\n",
       "      <td>999</td>\n",
       "      <td>R</td>\n",
       "      <td>197</td>\n",
       "      <td>R</td>\n",
       "      <td>100.0</td>\n",
       "      <td>...</td>\n",
       "      <td>Z</td>\n",
       "      <td>0.0</td>\n",
       "      <td>R</td>\n",
       "      <td>1.0</td>\n",
       "      <td>R</td>\n",
       "      <td>0.0</td>\n",
       "      <td>R</td>\n",
       "      <td>1.0</td>\n",
       "      <td>2013</td>\n",
       "      <td>NaN</td>\n",
       "    </tr>\n",
       "    <tr>\n",
       "      <th>3</th>\n",
       "      <td>100654</td>\n",
       "      <td>6</td>\n",
       "      <td>10</td>\n",
       "      <td>2</td>\n",
       "      <td>2</td>\n",
       "      <td>10</td>\n",
       "      <td>R</td>\n",
       "      <td>882</td>\n",
       "      <td>R</td>\n",
       "      <td>407.0</td>\n",
       "      <td>...</td>\n",
       "      <td>R</td>\n",
       "      <td>0.0</td>\n",
       "      <td>R</td>\n",
       "      <td>5.0</td>\n",
       "      <td>R</td>\n",
       "      <td>2.0</td>\n",
       "      <td>R</td>\n",
       "      <td>3.0</td>\n",
       "      <td>2013</td>\n",
       "      <td>NaN</td>\n",
       "    </tr>\n",
       "    <tr>\n",
       "      <th>4</th>\n",
       "      <td>100654</td>\n",
       "      <td>8</td>\n",
       "      <td>12</td>\n",
       "      <td>2</td>\n",
       "      <td>2</td>\n",
       "      <td>50</td>\n",
       "      <td>R</td>\n",
       "      <td>882</td>\n",
       "      <td>R</td>\n",
       "      <td>407.0</td>\n",
       "      <td>...</td>\n",
       "      <td>R</td>\n",
       "      <td>0.0</td>\n",
       "      <td>R</td>\n",
       "      <td>5.0</td>\n",
       "      <td>R</td>\n",
       "      <td>2.0</td>\n",
       "      <td>R</td>\n",
       "      <td>3.0</td>\n",
       "      <td>2013</td>\n",
       "      <td>NaN</td>\n",
       "    </tr>\n",
       "  </tbody>\n",
       "</table>\n",
       "<p>5 rows × 68 columns</p>\n",
       "</div>"
      ],
      "text/plain": [
       "   institute_id  GRTYPE  CHRTSTAT  SECTION  COHORT LINE XGRTOTLT  co_total  \\\n",
       "0        100654       2        12        1       1  999        R       882   \n",
       "1        100654       3        13        1       1  999        R       257   \n",
       "2        100654       4        20        1       1  999        R       197   \n",
       "3        100654       6        10        2       2  10         R       882   \n",
       "4        100654       8        12        2       2  50         R       882   \n",
       "\n",
       "  XGRTOTLM  GRTOTLM  ... XGRUNKNW  GRUNKNW XGRNRALT  co_nonresAlien XGRNRALM  \\\n",
       "0        R    407.0  ...        R      0.0        R             5.0        R   \n",
       "1        R     93.0  ...        Z      0.0        R             2.0        Z   \n",
       "2        R    100.0  ...        Z      0.0        R             1.0        R   \n",
       "3        R    407.0  ...        R      0.0        R             5.0        R   \n",
       "4        R    407.0  ...        R      0.0        R             5.0        R   \n",
       "\n",
       "   GRNRALM XGRNRALW  GRNRALW  year  GRNRALW   \n",
       "0      2.0        R      3.0  2013       NaN  \n",
       "1      0.0        R      2.0  2013       NaN  \n",
       "2      0.0        R      1.0  2013       NaN  \n",
       "3      2.0        R      3.0  2013       NaN  \n",
       "4      2.0        R      3.0  2013       NaN  \n",
       "\n",
       "[5 rows x 68 columns]"
      ]
     },
     "execution_count": 12,
     "metadata": {},
     "output_type": "execute_result"
    }
   ],
   "source": [
    "# rename variables to something that we can understand better\n",
    "df_cohort = df_cohort.rename(columns={'UNITID': 'institute_id',\n",
    "                        'GRTOTLT': 'co_total',\n",
    "                        'GRAIANT': 'co_AmerInd_AlaskNtv',\n",
    "                        'GRASIAT': 'co_Asian',\n",
    "                        'GRBKAAT': 'co_AfrAmer',\n",
    "                        'GRHISPT': 'co_Hispanic',\n",
    "                        'GRNHPIT': 'co_Hi_PacIsland',\n",
    "                        'GRWHITT': 'co_White',\n",
    "                        'GR2MORT': 'co_2orMore',\n",
    "                        'GRUNKNT': 'co_unknown',\n",
    "                        'GRNRALT': 'co_nonresAlien'\n",
    "                       })\n",
    "df_cohort.head()"
   ]
  },
  {
   "cell_type": "code",
   "execution_count": 17,
   "id": "2d7c0ade",
   "metadata": {},
   "outputs": [],
   "source": [
    "# Get Public 4 year Universities\n",
    "df_unv = df_unv[(df_unv['SECTOR'] == 1) & (df_unv['university_level'] == 1)][['institute_id', 'institute_name', 'state', 'city', 'zip', 'year']]"
   ]
  },
  {
   "cell_type": "code",
   "execution_count": 19,
   "id": "ff5a521e",
   "metadata": {},
   "outputs": [
    {
     "name": "stdout",
     "output_type": "stream",
     "text": [
      "<class 'pandas.core.frame.DataFrame'>\n",
      "Int64Index: 6126 entries, 0 to 6393\n",
      "Data columns (total 6 columns):\n",
      " #   Column          Non-Null Count  Dtype \n",
      "---  ------          --------------  ----- \n",
      " 0   institute_id    6126 non-null   int64 \n",
      " 1   institute_name  6126 non-null   object\n",
      " 2   state           6126 non-null   object\n",
      " 3   city            6126 non-null   object\n",
      " 4   zip             6126 non-null   object\n",
      " 5   year            6126 non-null   int64 \n",
      "dtypes: int64(2), object(4)\n",
      "memory usage: 335.0+ KB\n"
     ]
    }
   ],
   "source": [
    "df_unv.info()"
   ]
  },
  {
   "cell_type": "code",
   "execution_count": 20,
   "id": "bc93944a",
   "metadata": {},
   "outputs": [],
   "source": [
    "# Get 4 year university enrollment numbers\n",
    "df_enr = df_enr[(df_enr['student_lvl'] == 1) & (df_enr['institute_id'].isin(df_unv['institute_id']))][['institute_id', 'e_total', 'e_AmerInd_AlaskNtv', 'e_Asian', 'e_AfrAmer', 'e_Hispanic', 'e_Hi_PacIsland', 'e_White', 'e_2orMore', 'e_unknown', 'e_nonresAlien', 'year']]"
   ]
  },
  {
   "cell_type": "code",
   "execution_count": 21,
   "id": "431a9003",
   "metadata": {},
   "outputs": [],
   "source": [
    "# Get graduation numbers for 150% graduation rate (6 years from enrollment)\n",
    "df_grad = df_grad[(df_grad['GRTYPE'] == 3) & (df_grad['SECTION'] == 1) & (df_grad['institute_id'].isin(df_unv['institute_id']))][['institute_id', 'gr_total', 'gr_AmerInd_AlaskNtv', 'gr_Asian', 'gr_AfrAmer', 'gr_Hispanic', 'gr_Hi_PacIsland', 'gr_White', 'gr_2orMore', 'gr_unknown', 'gr_nonresAlien', 'year']]"
   ]
  },
  {
   "cell_type": "code",
   "execution_count": 22,
   "id": "4c6494ce",
   "metadata": {},
   "outputs": [],
   "source": [
    "# Get the cohort student counts (enrollment class from 6 years ago)\n",
    "df_cohort = df_cohort[(df_cohort['GRTYPE'] == 2) & (df_cohort['SECTION'] == 1) & (df_cohort['institute_id'].isin(df_unv['institute_id']))][['institute_id', 'co_total', 'co_AmerInd_AlaskNtv', 'co_Asian', 'co_AfrAmer', 'co_Hispanic', 'co_Hi_PacIsland', 'co_White', 'co_2orMore', 'co_unknown', 'co_nonresAlien', 'year']]"
   ]
  },
  {
   "cell_type": "code",
   "execution_count": 23,
   "id": "eb59b747",
   "metadata": {},
   "outputs": [],
   "source": [
    "# rename variables to something that we can understand better\n",
    "df_staff = df_staff.rename(columns={'UNITID': 'institute_id',\n",
    "                        'HRTOTLT': 'hr_total',\n",
    "                        'HRAIANT': 'hr_AmerInd_AlaskNtv',\n",
    "                        'HRASIAT': 'hr_Asian',\n",
    "                        'HRBKAAT': 'hr_AfrAmer',\n",
    "                        'HRHISPT': 'hr_Hispanic',\n",
    "                        'HRNHPIT': 'hr_Hi_PacIsland',\n",
    "                        'HRWHITT': 'hr_White',\n",
    "                        'HR2MORT': 'hr_2orMore',\n",
    "                        'HRUNKNT': 'hr_unknown',\n",
    "                        'HRNRALT': 'hr_nonresAlien'\n",
    "                       })"
   ]
  },
  {
   "cell_type": "code",
   "execution_count": 24,
   "id": "40b81049",
   "metadata": {},
   "outputs": [],
   "source": [
    "# Get instructional staff (full-time and part-time faculty) numbers\n",
    "df_staff = df_staff[(df_staff.STAFFCAT == 1210) & (df_staff['institute_id'].isin(df_unv['institute_id']))][['institute_id', 'hr_total', 'hr_AmerInd_AlaskNtv', 'hr_Asian', 'hr_AfrAmer', 'hr_Hispanic', 'hr_Hi_PacIsland', 'hr_White', 'hr_2orMore', 'hr_unknown', 'hr_nonresAlien', 'year']]"
   ]
  },
  {
   "cell_type": "code",
   "execution_count": 25,
   "id": "722788a3",
   "metadata": {},
   "outputs": [],
   "source": [
    "# Get public university endowments\n",
    "df_finance1 = df_finance1[df_finance1['institute_id'].isin(df_unv['institute_id'])][['institute_id', 'public_endowment', 'year']]"
   ]
  },
  {
   "cell_type": "code",
   "execution_count": 26,
   "id": "b8e1888b",
   "metadata": {},
   "outputs": [],
   "source": [
    "# Get private university endowments\n",
    "df_finance2 = df_finance2[df_finance2['institute_id'].isin(df_unv['institute_id'])][['institute_id', 'private_endowment', 'year']]"
   ]
  },
  {
   "cell_type": "code",
   "execution_count": 27,
   "id": "69adf424",
   "metadata": {},
   "outputs": [],
   "source": [
    "# Get student income levels for those that applied for financial aid\n",
    "df_finaid = df_finaid[df_finaid['institute_id'].isin(df_unv['institute_id'])][['institute_id', 'number_in_all_levels', 'number_in_income_level1', 'total_scholarship_level1', 'average_amt_awarded_level1', 'number_in_income_level2', 'total_scholarship_level2', 'average_amt_awarded_level2', 'number_in_income_level3', 'total_scholarship_level3', 'average_amt_awarded_level3', 'number_in_income_level4', 'total_scholarship_level4', 'average_amt_awarded_level4', 'number_in_income_level5', 'total_scholarship_level5', 'average_amt_awarded_level5', 'year']]"
   ]
  },
  {
   "cell_type": "code",
   "execution_count": 33,
   "id": "4d7c3e79",
   "metadata": {},
   "outputs": [
    {
     "data": {
      "text/plain": [
       "848"
      ]
     },
     "execution_count": 33,
     "metadata": {},
     "output_type": "execute_result"
    }
   ],
   "source": [
    "df_unv['institute_id'].nunique()"
   ]
  },
  {
   "cell_type": "code",
   "execution_count": 34,
   "id": "5aecac39",
   "metadata": {},
   "outputs": [
    {
     "data": {
      "text/plain": [
       "837"
      ]
     },
     "execution_count": 34,
     "metadata": {},
     "output_type": "execute_result"
    }
   ],
   "source": [
    "df_enr['institute_id'].nunique()"
   ]
  },
  {
   "cell_type": "code",
   "execution_count": 35,
   "id": "a1376c44",
   "metadata": {},
   "outputs": [
    {
     "data": {
      "text/plain": [
       "779"
      ]
     },
     "execution_count": 35,
     "metadata": {},
     "output_type": "execute_result"
    }
   ],
   "source": [
    "df_grad['institute_id'].nunique()"
   ]
  },
  {
   "cell_type": "code",
   "execution_count": 36,
   "id": "44720013",
   "metadata": {},
   "outputs": [
    {
     "data": {
      "text/plain": [
       "780"
      ]
     },
     "execution_count": 36,
     "metadata": {},
     "output_type": "execute_result"
    }
   ],
   "source": [
    "df_cohort['institute_id'].nunique()"
   ]
  },
  {
   "cell_type": "code",
   "execution_count": 38,
   "id": "d44751f9",
   "metadata": {},
   "outputs": [
    {
     "data": {
      "text/plain": [
       "764"
      ]
     },
     "execution_count": 38,
     "metadata": {},
     "output_type": "execute_result"
    }
   ],
   "source": [
    "df_finance1['institute_id'].nunique()"
   ]
  },
  {
   "cell_type": "code",
   "execution_count": 39,
   "id": "ff52309a",
   "metadata": {},
   "outputs": [
    {
     "data": {
      "text/plain": [
       "33"
      ]
     },
     "execution_count": 39,
     "metadata": {},
     "output_type": "execute_result"
    }
   ],
   "source": [
    "df_finance2['institute_id'].nunique()"
   ]
  },
  {
   "cell_type": "code",
   "execution_count": 40,
   "id": "e448159b",
   "metadata": {},
   "outputs": [
    {
     "data": {
      "text/plain": [
       "813"
      ]
     },
     "execution_count": 40,
     "metadata": {},
     "output_type": "execute_result"
    }
   ],
   "source": [
    "df_finaid['institute_id'].nunique()"
   ]
  },
  {
   "cell_type": "code",
   "execution_count": 41,
   "id": "2ac6bfaf",
   "metadata": {},
   "outputs": [],
   "source": [
    "# Merge data frames together\n",
    "# Skipping private schools because the majority of them didn't report financial aid information\n",
    "df = df_grad.merge(df_cohort, how='outer', on = ['institute_id', 'year'])\n",
    "df = df.merge(df_staff, how='outer', on = ['institute_id', 'year'])\n",
    "df = df.merge(df_enr, how = 'outer', on = ['institute_id', 'year'])\n",
    "df = df.merge(df_unv, how='outer', on = ['institute_id', 'year'])\n",
    "df = df.merge(df_finance1, how='outer', on = ['institute_id', 'year'])\n",
    "#df = df.merge(df_finance2, how = 'outer', on = ['institute_id', 'year'])\n",
    "df = df.merge(df_finaid, how = 'outer', on = ['institute_id', 'year'])"
   ]
  },
  {
   "cell_type": "code",
   "execution_count": 42,
   "id": "5bb2ccea",
   "metadata": {},
   "outputs": [
    {
     "name": "stdout",
     "output_type": "stream",
     "text": [
      "<class 'pandas.core.frame.DataFrame'>\n",
      "Int64Index: 6579 entries, 0 to 6578\n",
      "Data columns (total 63 columns):\n",
      " #   Column                      Non-Null Count  Dtype  \n",
      "---  ------                      --------------  -----  \n",
      " 0   institute_id                6579 non-null   int64  \n",
      " 1   gr_total                    5669 non-null   float64\n",
      " 2   gr_AmerInd_AlaskNtv         5669 non-null   float64\n",
      " 3   gr_Asian                    5669 non-null   float64\n",
      " 4   gr_AfrAmer                  5669 non-null   float64\n",
      " 5   gr_Hispanic                 5669 non-null   float64\n",
      " 6   gr_Hi_PacIsland             5669 non-null   float64\n",
      " 7   gr_White                    5669 non-null   float64\n",
      " 8   gr_2orMore                  5669 non-null   float64\n",
      " 9   gr_unknown                  5669 non-null   float64\n",
      " 10  gr_nonresAlien              5669 non-null   float64\n",
      " 11  year                        6579 non-null   int64  \n",
      " 12  co_total                    5676 non-null   float64\n",
      " 13  co_AmerInd_AlaskNtv         5676 non-null   float64\n",
      " 14  co_Asian                    5676 non-null   float64\n",
      " 15  co_AfrAmer                  5676 non-null   float64\n",
      " 16  co_Hispanic                 5676 non-null   float64\n",
      " 17  co_Hi_PacIsland             5676 non-null   float64\n",
      " 18  co_White                    5676 non-null   float64\n",
      " 19  co_2orMore                  5676 non-null   float64\n",
      " 20  co_unknown                  5676 non-null   float64\n",
      " 21  co_nonresAlien              5676 non-null   float64\n",
      " 22  hr_total                    6280 non-null   float64\n",
      " 23  hr_AmerInd_AlaskNtv         6280 non-null   float64\n",
      " 24  hr_Asian                    6280 non-null   float64\n",
      " 25  hr_AfrAmer                  6280 non-null   float64\n",
      " 26  hr_Hispanic                 6280 non-null   float64\n",
      " 27  hr_Hi_PacIsland             6280 non-null   float64\n",
      " 28  hr_White                    6280 non-null   float64\n",
      " 29  hr_2orMore                  6280 non-null   float64\n",
      " 30  hr_unknown                  6280 non-null   float64\n",
      " 31  hr_nonresAlien              6280 non-null   float64\n",
      " 32  e_total                     6487 non-null   float64\n",
      " 33  e_AmerInd_AlaskNtv          6487 non-null   float64\n",
      " 34  e_Asian                     6487 non-null   float64\n",
      " 35  e_AfrAmer                   6487 non-null   float64\n",
      " 36  e_Hispanic                  6487 non-null   float64\n",
      " 37  e_Hi_PacIsland              6487 non-null   float64\n",
      " 38  e_White                     6487 non-null   float64\n",
      " 39  e_2orMore                   6487 non-null   float64\n",
      " 40  e_unknown                   6487 non-null   float64\n",
      " 41  e_nonresAlien               6487 non-null   float64\n",
      " 42  institute_name              6126 non-null   object \n",
      " 43  state                       6126 non-null   object \n",
      " 44  city                        6126 non-null   object \n",
      " 45  zip                         6126 non-null   object \n",
      " 46  public_endowment            5475 non-null   float64\n",
      " 47  number_in_all_levels        5984 non-null   float64\n",
      " 48  number_in_income_level1     5983 non-null   float64\n",
      " 49  total_scholarship_level1    5983 non-null   float64\n",
      " 50  average_amt_awarded_level1  5975 non-null   float64\n",
      " 51  number_in_income_level2     5983 non-null   float64\n",
      " 52  total_scholarship_level2    5983 non-null   float64\n",
      " 53  average_amt_awarded_level2  5938 non-null   float64\n",
      " 54  number_in_income_level3     5983 non-null   float64\n",
      " 55  total_scholarship_level3    5983 non-null   float64\n",
      " 56  average_amt_awarded_level3  5912 non-null   float64\n",
      " 57  number_in_income_level4     5983 non-null   float64\n",
      " 58  total_scholarship_level4    5983 non-null   float64\n",
      " 59  average_amt_awarded_level4  5764 non-null   float64\n",
      " 60  number_in_income_level5     5983 non-null   float64\n",
      " 61  total_scholarship_level5    5983 non-null   float64\n",
      " 62  average_amt_awarded_level5  5453 non-null   float64\n",
      "dtypes: float64(57), int64(2), object(4)\n",
      "memory usage: 3.2+ MB\n"
     ]
    }
   ],
   "source": [
    "df.info()"
   ]
  },
  {
   "cell_type": "code",
   "execution_count": 46,
   "id": "d4f17429",
   "metadata": {},
   "outputs": [],
   "source": [
    "# Dropping rows with blank graduation rows\n",
    "\n",
    "# When examining the data, there is a group of universities that were public 2 year universities / colleges\n",
    "# they then started granting 4 year degress later, but all their years between 2013 - 2020 were pulled in\n",
    "# Example: Institute ID 180203 / Aaniiih Nakoda College, so those years without graduation rates being reported are dropped\n",
    "\n",
    "df = df[df['gr_total'].notna()]"
   ]
  },
  {
   "cell_type": "code",
   "execution_count": 47,
   "id": "6a6d5184",
   "metadata": {},
   "outputs": [
    {
     "name": "stdout",
     "output_type": "stream",
     "text": [
      "<class 'pandas.core.frame.DataFrame'>\n",
      "Int64Index: 5669 entries, 0 to 5668\n",
      "Data columns (total 63 columns):\n",
      " #   Column                      Non-Null Count  Dtype  \n",
      "---  ------                      --------------  -----  \n",
      " 0   institute_id                5669 non-null   int64  \n",
      " 1   gr_total                    5669 non-null   float64\n",
      " 2   gr_AmerInd_AlaskNtv         5669 non-null   float64\n",
      " 3   gr_Asian                    5669 non-null   float64\n",
      " 4   gr_AfrAmer                  5669 non-null   float64\n",
      " 5   gr_Hispanic                 5669 non-null   float64\n",
      " 6   gr_Hi_PacIsland             5669 non-null   float64\n",
      " 7   gr_White                    5669 non-null   float64\n",
      " 8   gr_2orMore                  5669 non-null   float64\n",
      " 9   gr_unknown                  5669 non-null   float64\n",
      " 10  gr_nonresAlien              5669 non-null   float64\n",
      " 11  year                        5669 non-null   int64  \n",
      " 12  co_total                    5669 non-null   float64\n",
      " 13  co_AmerInd_AlaskNtv         5669 non-null   float64\n",
      " 14  co_Asian                    5669 non-null   float64\n",
      " 15  co_AfrAmer                  5669 non-null   float64\n",
      " 16  co_Hispanic                 5669 non-null   float64\n",
      " 17  co_Hi_PacIsland             5669 non-null   float64\n",
      " 18  co_White                    5669 non-null   float64\n",
      " 19  co_2orMore                  5669 non-null   float64\n",
      " 20  co_unknown                  5669 non-null   float64\n",
      " 21  co_nonresAlien              5669 non-null   float64\n",
      " 22  hr_total                    5539 non-null   float64\n",
      " 23  hr_AmerInd_AlaskNtv         5539 non-null   float64\n",
      " 24  hr_Asian                    5539 non-null   float64\n",
      " 25  hr_AfrAmer                  5539 non-null   float64\n",
      " 26  hr_Hispanic                 5539 non-null   float64\n",
      " 27  hr_Hi_PacIsland             5539 non-null   float64\n",
      " 28  hr_White                    5539 non-null   float64\n",
      " 29  hr_2orMore                  5539 non-null   float64\n",
      " 30  hr_unknown                  5539 non-null   float64\n",
      " 31  hr_nonresAlien              5539 non-null   float64\n",
      " 32  e_total                     5667 non-null   float64\n",
      " 33  e_AmerInd_AlaskNtv          5667 non-null   float64\n",
      " 34  e_Asian                     5667 non-null   float64\n",
      " 35  e_AfrAmer                   5667 non-null   float64\n",
      " 36  e_Hispanic                  5667 non-null   float64\n",
      " 37  e_Hi_PacIsland              5667 non-null   float64\n",
      " 38  e_White                     5667 non-null   float64\n",
      " 39  e_2orMore                   5667 non-null   float64\n",
      " 40  e_unknown                   5667 non-null   float64\n",
      " 41  e_nonresAlien               5667 non-null   float64\n",
      " 42  institute_name              5601 non-null   object \n",
      " 43  state                       5601 non-null   object \n",
      " 44  city                        5601 non-null   object \n",
      " 45  zip                         5601 non-null   object \n",
      " 46  public_endowment            4883 non-null   float64\n",
      " 47  number_in_all_levels        5559 non-null   float64\n",
      " 48  number_in_income_level1     5559 non-null   float64\n",
      " 49  total_scholarship_level1    5559 non-null   float64\n",
      " 50  average_amt_awarded_level1  5557 non-null   float64\n",
      " 51  number_in_income_level2     5559 non-null   float64\n",
      " 52  total_scholarship_level2    5559 non-null   float64\n",
      " 53  average_amt_awarded_level2  5535 non-null   float64\n",
      " 54  number_in_income_level3     5559 non-null   float64\n",
      " 55  total_scholarship_level3    5559 non-null   float64\n",
      " 56  average_amt_awarded_level3  5515 non-null   float64\n",
      " 57  number_in_income_level4     5559 non-null   float64\n",
      " 58  total_scholarship_level4    5559 non-null   float64\n",
      " 59  average_amt_awarded_level4  5408 non-null   float64\n",
      " 60  number_in_income_level5     5559 non-null   float64\n",
      " 61  total_scholarship_level5    5559 non-null   float64\n",
      " 62  average_amt_awarded_level5  5149 non-null   float64\n",
      "dtypes: float64(57), int64(2), object(4)\n",
      "memory usage: 2.8+ MB\n"
     ]
    }
   ],
   "source": [
    "df.info()"
   ]
  },
  {
   "cell_type": "code",
   "execution_count": 48,
   "id": "af87362b",
   "metadata": {},
   "outputs": [],
   "source": [
    "df.to_csv(\"C:\\\\project\\\\university_data.csv\")"
   ]
  },
  {
   "cell_type": "code",
   "execution_count": null,
   "id": "d75e49f3",
   "metadata": {},
   "outputs": [],
   "source": []
  }
 ],
 "metadata": {
  "kernelspec": {
   "display_name": "Python 3 (ipykernel)",
   "language": "python",
   "name": "python3"
  },
  "language_info": {
   "codemirror_mode": {
    "name": "ipython",
    "version": 3
   },
   "file_extension": ".py",
   "mimetype": "text/x-python",
   "name": "python",
   "nbconvert_exporter": "python",
   "pygments_lexer": "ipython3",
   "version": "3.9.12"
  },
  "vscode": {
   "interpreter": {
    "hash": "195ee01d4bc92fd4d2e8966a4e715eef1db3b4807527cf53031eb85c1727ee2c"
   }
  }
 },
 "nbformat": 4,
 "nbformat_minor": 5
}
